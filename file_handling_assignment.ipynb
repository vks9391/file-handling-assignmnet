{
  "nbformat": 4,
  "nbformat_minor": 0,
  "metadata": {
    "colab": {
      "provenance": []
    },
    "kernelspec": {
      "name": "python3",
      "display_name": "Python 3"
    },
    "language_info": {
      "name": "python"
    }
  },
  "cells": [
    {
      "cell_type": "markdown",
      "source": [],
      "metadata": {
        "id": "-FR6LbGLxfDa"
      }
    },
    {
      "cell_type": "markdown",
      "source": [
        "Q.1  What is the difference between interpreted and compiled languages.\n",
        "Compiled Language--\n",
        "a.Translated to machine code before execution\n",
        "b.Faster (after compilation)\n",
        "c.At compile time\n",
        "d.Creates a separate executable file\n",
        "e.C, C++, Java (bytecode)\n",
        "\n",
        "Interpreted Language--\n",
        "a.Translated line-by-line during execution\n",
        "b.Slower\n",
        "c.At runtime\n",
        "d.No separate file created\n",
        "e.Python, JavaScript, PHP\n",
        "\n"
      ],
      "metadata": {
        "id": "_70G8CTGgAXc"
      }
    },
    {
      "cell_type": "markdown",
      "source": [
        "**Theory** **Questions**\n"
      ],
      "metadata": {
        "id": "BQrTHKStfz2q"
      }
    },
    {
      "cell_type": "markdown",
      "source": [
        "2.What is exception handling in Python ?\n",
        "ans- An exception is an error that occurs during the execution of a program. When an error occurs, Python generates an exception object. If not handled, the program will crash.\n",
        "some Common Exceptions are-\n",
        "ZeroDivisionError-dividing by zero\n",
        "ValueError-invalid value\n",
        "FileNotFoundError-file doesnot exist\n",
        "IndexError-index out of range\n",
        "TypeError-wrong data type"
      ],
      "metadata": {
        "id": "w9IOCiLnmo1H"
      }
    },
    {
      "cell_type": "markdown",
      "source": [
        "3.What is the purpose of the finally block in exception handling?\n",
        "ans-The finally block is used to write code that must be executed no matter what happens—whether an exception is raised or not.\n",
        "\n",
        "Key Purposes of finally:\n",
        "Cleanup actions:\n",
        "Used to close files, release resources, disconnect from databases, etc.\n",
        "\n"
      ],
      "metadata": {
        "id": "IH_o_OQ4nKcp"
      }
    },
    {
      "cell_type": "markdown",
      "source": [
        "4. What is logging in Python?\n",
        "ans- logging- Logging in Python is the process of recording messages that describe events that happen while a program runs. These messages can be used to track:Errors,Warnings,Information,Debugging details"
      ],
      "metadata": {
        "id": "VRq-QXiOnqrj"
      }
    },
    {
      "cell_type": "markdown",
      "source": [
        "5.What is the significance of the __del__ method in Python?\n",
        "ans-The __del__ method in Python is a destructor method. It is called automatically when an object is about to be destroyed (i.e., when there are no more references to it).\n"
      ],
      "metadata": {
        "id": "krwUXt8-oEPL"
      }
    },
    {
      "cell_type": "markdown",
      "source": [
        "6. What is the difference between import and from ... import in Python?\n",
        "ams-Both import and from ... import are used to include external modules in your Python code — but they behave differently in how you access the contents of a module.\n",
        "\n",
        "*import module*\n",
        "Imports the entire module\n",
        "You need to use the module name to access its functions or variables\n",
        "\n",
        "*from module import name-*\n",
        "Imports specific items (functions, classes, or variables) directly from the module,You donot need to prefix with the module name"
      ],
      "metadata": {
        "id": "VxBhR-rHpRGY"
      }
    },
    {
      "cell_type": "markdown",
      "source": [
        "**7 to 25 question answer**"
      ],
      "metadata": {
        "id": "TJ01ilDbqAEy"
      }
    },
    {
      "cell_type": "markdown",
      "source": [
        "\n",
        "\n",
        "Q:7 How can you handle multiple exceptions in Python?\n",
        "A: Use multiple except blocks or a tuple in a single except block:\n",
        "Example 1:\n",
        "try:\n",
        " num = int('abc')\n",
        "except ValueError:\n",
        " print('Value error')\n",
        "except TypeError:\n",
        " print('Type error')\n",
        "\n",
        "Q:8 What is the purpose of the with statement when handling files in Python?\n",
        "A: The with statement ensures that files are automatically closed after they are used:\n",
        "with open('file.txt', 'r') as f:\n",
        " content = f.read()\n",
        "\n",
        "Q:9 What is the difference between multithreading and multiprocessing?\n",
        "A: Multithreading: Multiple threads in a single process (shared memory).\n",
        "Multiprocessing: Multiple processes (separate memory).\n",
        "Multithreading is better for I/O-bound tasks; multiprocessing is better for CPU-bound tasks.\n",
        "\n",
        "Q:10 What are the advantages of using logging in a program?\n",
        "A: - Tracks runtime events\n",
        "- Helps in debugging\n",
        "- Stores logs\n",
        "- More flexible than print()\n",
        "\n",
        "Q:11 What is memory management in Python?\n",
        "A: Automatic management of memory using reference counting and garbage collection.\n",
        "\n",
        "Q:12 What are the basic steps involved in exception handling in Python?\n",
        "A: 1.try: risky code\n",
        "   2.except: error handling\n",
        "   3.else: if no error\n",
        "   4.finally: always run\n",
        "\n",
        "Q:13 Why is memory management important in Python?\n",
        "A: To prevent memory leaks, improve performance, and use resources efficiently.\n",
        "\n",
        "Q:14 What is the role of try and except in exception handling?\n",
        "A: try: run risky code\n",
        "except: catch and handle exceptions\n",
        "\n",
        "Q:15 How does Python's garbage collection system work?\n",
        "A: Uses reference counting and a cycle detector to clean up unused memory.\n",
        "\n",
        "Q:16 What is the purpose of the else block in exception handling?\n",
        "A: Runs only if no exception was raised in the try block.\n",
        "\n",
        "Q:17 What are the common logging levels in Python?\n",
        "A: DEBUG, INFO, WARNING, ERROR, CRITICAL\n",
        "\n",
        "Q:18 What is the difference between os.fork() and multiprocessing in Python?\n",
        "A: os.fork(): Unix-only, low-level.\n",
        "multiprocessing: Cross-platform, high-level API.\n",
        "\n",
        "Q:19 What is the importance of closing a file in Python?\n",
        "A: Frees system resources, ensures data is written, prevents corruption.\n",
        "\n",
        "Q:20 What is the difference between file.read() and file.readline() in Python?\n",
        "A: read(): entire file\n",
        "readline(): one line at a time\n",
        "\n",
        "Q:21 What is the logging module in Python used for?\n",
        "A: To record debug info, errors, and application behavior.\n",
        "\n",
        "Q:22 What is the os module in Python used for in file handling?\n",
        "A: For interacting with the operating system (e.g., file removal, directory creation).\n",
        "\n",
        "Q:23 What are the challenges associated with memory management in Python?\n",
        "A: Circular references, large data sets, reliance on garbage collection.\n",
        "\n",
        "Q:24 How do you raise an exception manually in Python?\n",
        "A: Use raise:\n",
        "raise ValueError('Invalid input')\n",
        "\n",
        "Q:25 Why is it important to use multithreading in certain applications?\n",
        "A: Improves responsiveness, handles I/O operations simultaneously."
      ],
      "metadata": {
        "id": "_ifUDC3hqxQ_"
      }
    },
    {
      "cell_type": "markdown",
      "source": [
        "# PRACTICAL QUESTIONS.\n",
        "\n"
      ],
      "metadata": {
        "id": "U0pZ9Pq2yeUP"
      }
    },
    {
      "cell_type": "code",
      "source": [
        "#1.How can you open a file for writing in Python and write a string to it\n",
        "with open(\"/content/sample_data/example.txt\", \"w\") as file:\n",
        "    file.write(\"Hello, World! mr vivek\")\n"
      ],
      "metadata": {
        "id": "KzFGWn-45RbV"
      },
      "execution_count": 20,
      "outputs": []
    },
    {
      "cell_type": "code",
      "source": [
        "#2. Write a Python program to read the contents of a file and print each line\n",
        "with open(\"/content/sample_data/example.txt\", \"r\") as file:\n",
        "    for line in file:\n",
        "        print(line.strip())\n"
      ],
      "metadata": {
        "colab": {
          "base_uri": "https://localhost:8080/"
        },
        "id": "K7ISTzaj5eez",
        "outputId": "be9ffeba-c251-4718-b8fe-52b26e4745b6"
      },
      "execution_count": 22,
      "outputs": [
        {
          "output_type": "stream",
          "name": "stdout",
          "text": [
            "Hello, World! mr vivek\n"
          ]
        }
      ]
    },
    {
      "cell_type": "code",
      "source": [
        "#3.How would you handle a case where the file doesn't exist while trying to open it for reading\n",
        "try:\n",
        "    with open(\"nonexistent_file.txt\", \"r\") as file:\n",
        "        content = file.read()\n",
        "except FileNotFoundError:\n",
        "    print(\"The file does not exist.\")"
      ],
      "metadata": {
        "colab": {
          "base_uri": "https://localhost:8080/"
        },
        "id": "fK0NR9K05zyx",
        "outputId": "d65a793b-0012-4214-dc49-19c295a36f8e"
      },
      "execution_count": 24,
      "outputs": [
        {
          "output_type": "stream",
          "name": "stdout",
          "text": [
            "The file does not exist.\n"
          ]
        }
      ]
    },
    {
      "cell_type": "code",
      "source": [
        "#4.Write a Python script that reads from one file and writes its content to another file\n",
        "with open(\"/content/sample_data/example.txt\", \"r\") as input_file:\n",
        "    content = input_file.read()\n",
        "\n",
        "with open(\"/content/sample_data/output.txt\", \"w\") as output_file:\n",
        "    output_file.write(content)\n"
      ],
      "metadata": {
        "id": "qe6OTgiZ6khH"
      },
      "execution_count": 34,
      "outputs": []
    },
    {
      "cell_type": "code",
      "source": [
        "#5. How would you catch and handle division by zero error in Python.\n",
        "try:\n",
        "    result = 10 / 0\n",
        "except ZeroDivisionError:\n",
        "    print(\"Error: Division by zero\")"
      ],
      "metadata": {
        "colab": {
          "base_uri": "https://localhost:8080/"
        },
        "id": "mgh0wxCB66vy",
        "outputId": "ba7ffcc8-4daa-436e-b219-0c7908c124c0"
      },
      "execution_count": null,
      "outputs": [
        {
          "output_type": "stream",
          "name": "stdout",
          "text": [
            "Error: Division by zero\n"
          ]
        }
      ]
    },
    {
      "cell_type": "code",
      "source": [
        "#6.Write a Python program that logs an error message to a log file when a division by zero exception occurs\n",
        "import logging\n",
        "\n",
        "logging.basicConfig(filename=\"error.log\", level=logging.ERROR)\n",
        "\n",
        "try:\n",
        "    x = 5 / 0\n",
        "except ZeroDivisionError as e:\n",
        "    logging.error(\"Division by zero error occurred: %s\", e)\n"
      ],
      "metadata": {
        "colab": {
          "base_uri": "https://localhost:8080/"
        },
        "id": "TaZPOJmE7Dr0",
        "outputId": "938cf91b-21d2-4ca5-d3e5-376255a551af"
      },
      "execution_count": null,
      "outputs": [
        {
          "output_type": "stream",
          "name": "stderr",
          "text": [
            "ERROR:root:Division by zero error occurred: division by zero\n"
          ]
        }
      ]
    },
    {
      "cell_type": "code",
      "source": [
        "#7. How do you log information at different levels (INFO, ERROR, WARNING) in Python using the logging module\n",
        "import logging\n",
        "\n",
        "logging.basicConfig(level=logging.INFO)\n",
        "\n",
        "logging.info(\"This is an informational message.\")\n",
        "\n",
        "logging.warning(\"This is a warning message.\")\n",
        "\n",
        "logging.error(\"This is an error message.\")"
      ],
      "metadata": {
        "colab": {
          "base_uri": "https://localhost:8080/"
        },
        "id": "RvnFXrnX7dv8",
        "outputId": "09d681bf-a6d0-4cfa-9982-5682f27cf10b"
      },
      "execution_count": null,
      "outputs": [
        {
          "output_type": "stream",
          "name": "stderr",
          "text": [
            "WARNING:root:This is a warning message.\n",
            "ERROR:root:This is an error message.\n"
          ]
        }
      ]
    },
    {
      "cell_type": "code",
      "source": [
        "#8.Write a program to handle a file opening error using exception handling\n",
        "try:\n",
        "    with open(\"nonexistent_file.txt\", \"r\") as file:\n",
        "        content = file.read()\n",
        "except FileNotFoundError:\n",
        "    print(\"Error: The file does not open.\")\n"
      ],
      "metadata": {
        "colab": {
          "base_uri": "https://localhost:8080/"
        },
        "id": "xQCXVUML73HD",
        "outputId": "653ac5a2-bf25-46c8-fe91-5ce8f6957bcf"
      },
      "execution_count": null,
      "outputs": [
        {
          "output_type": "stream",
          "name": "stdout",
          "text": [
            "Error: The file does not open.\n"
          ]
        }
      ]
    },
    {
      "cell_type": "code",
      "source": [
        "#9.How can you read a file line by line and store its content in a list in Python\n",
        "with open(\"/content/sample_data/example.txt\", \"r\") as file:\n",
        "    lines = file.readlines()\n",
        "\n",
        "for line in lines:\n",
        "    print(line.strip())"
      ],
      "metadata": {
        "colab": {
          "base_uri": "https://localhost:8080/"
        },
        "id": "5-fsqMjV8aYw",
        "outputId": "6ea958d0-4b26-4323-dc8a-c2dce07084c1"
      },
      "execution_count": 36,
      "outputs": [
        {
          "output_type": "stream",
          "name": "stdout",
          "text": [
            "Hello, World! mr vivek\n"
          ]
        }
      ]
    },
    {
      "cell_type": "code",
      "source": [
        "#10.How can you append data to an existing file in Python.\n",
        "with open(\"/content/sample_data/example.txt\", \"a\") as file:\n",
        "    file.write(\"\\nAppending new data.\")\n"
      ],
      "metadata": {
        "id": "ku19mQW78s4K"
      },
      "execution_count": 38,
      "outputs": []
    },
    {
      "cell_type": "code",
      "source": [
        "#11. Write a Python program that uses a try-except block to handle an error when attempting to access a dictionary key that doesn't exist.\n",
        "my_dict = {\"a\": 1, \"b\": 2}\n",
        "\n",
        "try:\n",
        "    value = my_dict[\"c\"]\n",
        "except KeyError:\n",
        "    print(\"Error: Key not found in the dictionary.\")\n"
      ],
      "metadata": {
        "colab": {
          "base_uri": "https://localhost:8080/"
        },
        "id": "we89ctj-guOX",
        "outputId": "40a27786-8d16-41a2-c4c4-89f7ff944dc3"
      },
      "execution_count": 2,
      "outputs": [
        {
          "output_type": "stream",
          "name": "stdout",
          "text": [
            "Error: Key not found in the dictionary.\n"
          ]
        }
      ]
    },
    {
      "cell_type": "code",
      "source": [
        "#12.Write a program that demonstrates using multiple except blocks to handle different types of exceptions\n",
        "try:\n",
        "    result = 10 / 0\n",
        "except ZeroDivisionError:\n",
        "    print(\"Error: Division by zero\")\n",
        "except ValueError:\n",
        "    print(\"Error: Invalid value\")\n"
      ],
      "metadata": {
        "colab": {
          "base_uri": "https://localhost:8080/"
        },
        "id": "AChwrJ1EhDU7",
        "outputId": "54010ecd-040c-48d2-8ae7-041e14663ff4"
      },
      "execution_count": 8,
      "outputs": [
        {
          "output_type": "stream",
          "name": "stdout",
          "text": [
            "Error: Division by zero\n"
          ]
        }
      ]
    },
    {
      "cell_type": "code",
      "source": [
        "#13.How would you check if a file exists before attempting to read it in Python\n",
        "import os\n",
        "\n",
        "file_path = \"/content/sample_data/example.txt\"\n",
        "\n",
        "if os.path.exists(file_path):\n",
        "    with open(file_path, \"r\") as file:\n",
        "        content = file.read()\n",
        "        print(content)\n",
        "else:\n",
        "    print(\"File does not exist.\")\n"
      ],
      "metadata": {
        "colab": {
          "base_uri": "https://localhost:8080/"
        },
        "id": "pNa8IZfUhjLU",
        "outputId": "02cff710-f768-4f8c-96ca-0ce63e5b86fd"
      },
      "execution_count": 40,
      "outputs": [
        {
          "output_type": "stream",
          "name": "stdout",
          "text": [
            "Hello, World! mr vivek\n",
            "\n",
            "Appending new data.\n",
            "Appending new data.\n"
          ]
        }
      ]
    },
    {
      "cell_type": "code",
      "source": [
        "#14.Write a program that uses the logging module to log both informational and error messages\n",
        "import logging\n",
        "\n",
        "logging.basicConfig(level=logging.INFO)\n",
        "\n",
        "logging.info(\"This is an informational message.\")\n",
        "\n",
        "logging.error(\"This is an error message.\")\n"
      ],
      "metadata": {
        "colab": {
          "base_uri": "https://localhost:8080/"
        },
        "id": "6jPFlFSWh7ti",
        "outputId": "6a7003d7-6d66-43ec-b02e-34e3371939e5"
      },
      "execution_count": 11,
      "outputs": [
        {
          "output_type": "stream",
          "name": "stderr",
          "text": [
            "ERROR:root:This is an error message.\n"
          ]
        }
      ]
    },
    {
      "cell_type": "code",
      "source": [
        "#15. Write a Python program that prints the content of a file and handles the case when the file is empty\n",
        "try:\n",
        "    with open(\"/content/sample_data/example.txt\", \"r\") as file:\n",
        "        content = file.read()\n",
        "        if content:\n",
        "            print(content)\n",
        "        else:\n",
        "            print(\"The file is empty.\")\n",
        "except FileNotFoundError:\n",
        "    print(\"The contain is printing.\")"
      ],
      "metadata": {
        "colab": {
          "base_uri": "https://localhost:8080/"
        },
        "id": "ZhpZ-NjtiPdi",
        "outputId": "b0ebe514-c4f0-4b6e-9e0c-93f77fff9ee2"
      },
      "execution_count": 41,
      "outputs": [
        {
          "output_type": "stream",
          "name": "stdout",
          "text": [
            "Hello, World! mr vivek\n",
            "\n",
            "Appending new data.\n",
            "Appending new data.\n"
          ]
        }
      ]
    },
    {
      "cell_type": "code",
      "source": [
        "#16.Demonstrate how to use memory profiling to check the memory usage of a small program.\n",
        "# pip install memory-profiler\n",
        "    from memory_profiler import profile\n",
        "\n",
        "@profile\n",
        "def create_list():\n",
        "    return [i * 2 for i in range(10000)]\n",
        "\n",
        "if __name__ == \"__main__\":\n",
        "    create_list()\n",
        "#run the script\n",
        "#python -m memory_profiler script_name.py\n"
      ],
      "metadata": {
        "colab": {
          "base_uri": "https://localhost:8080/",
          "height": 106
        },
        "id": "crtvubwEiv60",
        "outputId": "f23c5414-dd59-4695-b672-8e05073db33c"
      },
      "execution_count": 43,
      "outputs": [
        {
          "output_type": "error",
          "ename": "IndentationError",
          "evalue": "unexpected indent (ipython-input-43-1461427334.py, line 3)",
          "traceback": [
            "\u001b[0;36m  File \u001b[0;32m\"/tmp/ipython-input-43-1461427334.py\"\u001b[0;36m, line \u001b[0;32m3\u001b[0m\n\u001b[0;31m    from memory_profiler import profile\u001b[0m\n\u001b[0m    ^\u001b[0m\n\u001b[0;31mIndentationError\u001b[0m\u001b[0;31m:\u001b[0m unexpected indent\n"
          ]
        }
      ]
    },
    {
      "cell_type": "code",
      "source": [
        "#17.Write a Python program to create and write a list of numbers to a file, one number per line\n",
        "numbers = [1, 2, 3, 4, 5, 6, 7, 8, 9, 10]\n",
        "\n",
        "with open(\"/content/sample_data/number.txt\", \"w\") as file:\n",
        "    for number in numbers:\n",
        "        file.write(str(number) + \"\\n\")\n"
      ],
      "metadata": {
        "id": "LcalVASUj7Ps"
      },
      "execution_count": 44,
      "outputs": []
    },
    {
      "cell_type": "code",
      "source": [
        "#18. How would you implement a basic logging setup that logs to a file with rotation after 1MB\n",
        "import logging\n",
        "from logging.handlers import RotatingFileHandler\n",
        "\n",
        "# Set up a rotating file handler\n",
        "handler = RotatingFileHandler(\"app.log\", maxBytes=1_000_000, backupCount=3)\n",
        "logging.basicConfig(\n",
        "    level=logging.INFO,\n",
        "    handlers=[handler],\n",
        "    format=\"%(asctime)s - %(levelname)s - %(message)s\"\n",
        ")\n",
        "\n",
        "logging.info(\"This is a log message.\")\n"
      ],
      "metadata": {
        "id": "6xZCf6ygkS9b"
      },
      "execution_count": 45,
      "outputs": []
    },
    {
      "cell_type": "code",
      "source": [
        "#19.Write a program that handles both IndexError and KeyError using a try-except block\n",
        "data = {\"name\": \"vivek\"}\n",
        "items = [1, 2, 3, 4, 5]\n",
        "\n",
        "try:\n",
        "    print(items[5])       # May raise IndexError\n",
        "    print(data[\"age\"])    # May raise KeyError\n",
        "except IndexError:\n",
        "    print(\"IndexError: List index out of range.\")\n",
        "except KeyError:\n",
        "    print(\"KeyError: Key not found in dictionary.\")\n"
      ],
      "metadata": {
        "colab": {
          "base_uri": "https://localhost:8080/"
        },
        "id": "vRVLjLMTGWHL",
        "outputId": "c8dcbec5-9020-4c99-a533-7086c96401a3"
      },
      "execution_count": 48,
      "outputs": [
        {
          "output_type": "stream",
          "name": "stdout",
          "text": [
            "IndexError: List index out of range.\n"
          ]
        }
      ]
    },
    {
      "cell_type": "code",
      "source": [
        "#20.How would you open a file and read its contents using a context manager in Python\n",
        "with open(\"/content/sample_data/number.txt\", \"r\") as file:\n",
        "    content = file.read()\n",
        "    print(content)\n",
        "\n"
      ],
      "metadata": {
        "colab": {
          "base_uri": "https://localhost:8080/"
        },
        "id": "FVPGEZy4Gil8",
        "outputId": "bb2282dd-9038-4136-edf4-e23f8a99fe6c"
      },
      "execution_count": 49,
      "outputs": [
        {
          "output_type": "stream",
          "name": "stdout",
          "text": [
            "1\n",
            "2\n",
            "3\n",
            "4\n",
            "5\n",
            "6\n",
            "7\n",
            "8\n",
            "9\n",
            "10\n",
            "\n"
          ]
        }
      ]
    },
    {
      "cell_type": "code",
      "source": [
        "#21.Write a Python program that reads a file and prints the number of occurrences of a specific word\n",
        "def count_word_occurrences(filename, word):\n",
        "    with open(filename, 'r') as file:\n",
        "        content = file.read()\n",
        "        count = content.lower().count(word.lower())\n",
        "        print(f\"The word '{word}' occurred {count} times.\")\n",
        "\n",
        "count_word_occurrences(\"/content/sample_data/example.txt\", \"python\")\n"
      ],
      "metadata": {
        "colab": {
          "base_uri": "https://localhost:8080/"
        },
        "id": "2U1RCp3qHDvl",
        "outputId": "ccc9a1ea-3cb5-41fc-8009-dedae670ba11"
      },
      "execution_count": 52,
      "outputs": [
        {
          "output_type": "stream",
          "name": "stdout",
          "text": [
            "The word 'python' occurred 0 times.\n"
          ]
        }
      ]
    },
    {
      "cell_type": "code",
      "source": [
        "#22. How can you check if a file is empty before attempting to read its contents\n",
        "import os\n",
        "\n",
        "filename = \"/content/sample_data/example.txt\"\n",
        "if os.path.getsize(filename) == 0:\n",
        "    print(\"The file is empty.\")\n",
        "else:\n",
        "    with open(filename, 'r') as file:\n",
        "        print(file.read())\n"
      ],
      "metadata": {
        "colab": {
          "base_uri": "https://localhost:8080/"
        },
        "id": "r6ixCffgHWf_",
        "outputId": "43509e6b-7b34-4c16-9f33-8c83d9562d0d"
      },
      "execution_count": 54,
      "outputs": [
        {
          "output_type": "stream",
          "name": "stdout",
          "text": [
            "Hello, World! mr vivek\n",
            "\n",
            "Appending new data.\n",
            "Appending new data.\n"
          ]
        }
      ]
    },
    {
      "cell_type": "code",
      "source": [
        "#23.Write a Python program that writes to a log file when an error occurs during file handling\n",
        "import logging\n",
        "\n",
        "logging.basicConfig(filename='file_errors.log', level=logging.ERROR,\n",
        "                    format='%(asctime)s - %(levelname)s - %(message)s')\n",
        "\n",
        "try:\n",
        "    with open(\"nonexistent.txt\", \"r\") as file:\n",
        "        data = file.read()\n",
        "except Exception as e:\n",
        "    logging.error(\"An error occurred: %s\", e)\n"
      ],
      "metadata": {
        "colab": {
          "base_uri": "https://localhost:8080/"
        },
        "id": "sd0TzZB2Hi1O",
        "outputId": "cda92daa-35b1-43b8-ea64-0e22718e90cd"
      },
      "execution_count": 15,
      "outputs": [
        {
          "output_type": "stream",
          "name": "stderr",
          "text": [
            "ERROR:root:An error occurred: [Errno 2] No such file or directory: 'nonexistent.txt'\n"
          ]
        }
      ]
    }
  ]
}